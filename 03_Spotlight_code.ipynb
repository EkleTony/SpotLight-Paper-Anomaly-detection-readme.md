{
 "cells": [
  {
   "cell_type": "markdown",
   "metadata": {},
   "source": [
    "## 01 Python Libraries"
   ]
  },
  {
   "cell_type": "code",
   "execution_count": 2,
   "metadata": {},
   "outputs": [],
   "source": [
    "from datetime import datetime\n",
    "from tqdm import tqdm\n",
    "import pandas as pd\n",
    "import numpy as np\n",
    "import glob\n",
    "import os\n",
    "import gzip"
   ]
  },
  {
   "cell_type": "markdown",
   "metadata": {},
   "source": [
    "## 02a Reading and Loading the Darpa dataset from raw text format"
   ]
  },
  {
   "cell_type": "code",
   "execution_count": 372,
   "metadata": {},
   "outputs": [
    {
     "name": "stdout",
     "output_type": "stream",
     "text": [
      "Merged list saved to week7_data.txt\n"
     ]
    }
   ],
   "source": [
    "\n",
    "\n",
    "# Define the days of the week\n",
    "days_of_week = [\"monday7\", \"tuesday7\", \"wednesday7\", \"thursday7\", \"friday7\"]\n",
    "\n",
    "# Initialize an empty list to store the contents of the files\n",
    "merged_list = []\n",
    "\n",
    "# Iterate through each day's folder\n",
    "for day in days_of_week:\n",
    "    folder_path = f\"./{day}/\"  # Update the path according to your directory structure\n",
    "\n",
    "    # Check if the folder exists\n",
    "    if os.path.exists(folder_path):\n",
    "        # Read the contents of bcm.list.gz file\n",
    "        bcm_file_path = os.path.join(folder_path, \"bcm.list.gz\")\n",
    "        if os.path.exists(bcm_file_path):\n",
    "            with gzip.open(bcm_file_path, \"rt\") as bcm_file:\n",
    "                merged_list.extend(bcm_file.readlines())\n",
    "\n",
    "        # Read the contents of tcpdump.list.gz file\n",
    "        tcpdump_file_path = os.path.join(folder_path, \"tcpdump.list.gz\")\n",
    "        if os.path.exists(tcpdump_file_path):\n",
    "            with gzip.open(tcpdump_file_path, \"rt\") as tcpdump_file:\n",
    "                merged_list.extend(tcpdump_file.readlines())\n",
    "\n",
    "# Save the merged list to a file named \"week2_data.txt\"\n",
    "output_file_path = \"week7_data.txt\"\n",
    "with open(output_file_path, \"w\") as output_file:\n",
    "    output_file.writelines(merged_list)\n",
    "\n",
    "print(f\"Merged list saved to {output_file_path}\")\n"
   ]
  },
  {
   "cell_type": "code",
   "execution_count": 373,
   "metadata": {},
   "outputs": [
    {
     "name": "stdout",
     "output_type": "stream",
     "text": [
      "data_full_7wks data saved to data_full_7wks.txt\n"
     ]
    }
   ],
   "source": [
    "import pandas as pd\n",
    "\n",
    "# Load data from week1_data.txt\n",
    "week1_file_path = \"week1_data.txt\"\n",
    "with open(week1_file_path, \"r\") as week1_file:\n",
    "    week1_data = week1_file.readlines()\n",
    "\n",
    "# Load data from week2_data.txt\n",
    "week2_file_path = \"week2_data.txt\"\n",
    "with open(week2_file_path, \"r\") as week2_file:\n",
    "    week2_data = week2_file.readlines()\n",
    "\n",
    "# Load data from week3_data.txt\n",
    "week3_file_path = \"week3_data.txt\"\n",
    "with open(week3_file_path, \"r\") as week3_file:\n",
    "    week3_data = week3_file.readlines()\n",
    "    \n",
    "# Load data from week4_data.txt\n",
    "week4_file_path = \"week4_data.txt\"\n",
    "with open(week4_file_path, \"r\") as week4_file:\n",
    "    week4_data = week4_file.readlines()\n",
    "    \n",
    "\n",
    "# Load data from week5_data.txt\n",
    "week5_file_path = \"week5_data.txt\"\n",
    "with open(week5_file_path, \"r\") as week5_file:\n",
    "    week5_data = week5_file.readlines()\n",
    "\n",
    "# Load data from week6_data.txt\n",
    "week6_file_path = \"week6_data.txt\"\n",
    "with open(week6_file_path, \"r\") as week6_file:\n",
    "    week6_data = week6_file.readlines()\n",
    "    \n",
    "# Load data from week7_data.txt\n",
    "week7_file_path = \"week7_data.txt\"\n",
    "with open(week7_file_path, \"r\") as week7_file:\n",
    "    week7_data = week7_file.readlines()\n",
    "    \n",
    "# Merge the two lists\n",
    "data_full_7wks = week1_data + week2_data + week3_data + week4_data + week5_data + week6_data +week7_data\n",
    "\n",
    "# Save the merged data to a text file\n",
    "output_txt_path = \"data_full_7wks.txt\"\n",
    "with open(output_txt_path, \"w\") as output_txt:\n",
    "    output_txt.writelines(data_full_7wks)\n",
    "\n",
    "print(f\"data_full_7wks data saved to {output_txt_path}\")\n",
    "\n"
   ]
  },
  {
   "cell_type": "code",
   "execution_count": 374,
   "metadata": {},
   "outputs": [
    {
     "data": {
      "text/plain": [
       "3000794"
      ]
     },
     "execution_count": 374,
     "metadata": {},
     "output_type": "execute_result"
    }
   ],
   "source": [
    "len(data_full_7wks)"
   ]
  },
  {
   "cell_type": "markdown",
   "metadata": {},
   "source": [
    "### 02b Converting processed data into CSV"
   ]
  },
  {
   "cell_type": "code",
   "execution_count": 4,
   "metadata": {},
   "outputs": [
    {
     "ename": "FileNotFoundError",
     "evalue": "[Errno 2] No such file or directory: 'dataset_7weeks.txt'",
     "output_type": "error",
     "traceback": [
      "\u001b[0;31m---------------------------------------------------------------------------\u001b[0m",
      "\u001b[0;31mFileNotFoundError\u001b[0m                         Traceback (most recent call last)",
      "\u001b[0;32m/var/folders/6_/n5_p9hgx2mj08njw5lqlvgww0000gn/T/ipykernel_24306/499842580.py\u001b[0m in \u001b[0;36m<module>\u001b[0;34m\u001b[0m\n\u001b[1;32m      1\u001b[0m \u001b[0;31m# Read merged_data.txt into a DataFrame\u001b[0m\u001b[0;34m\u001b[0m\u001b[0;34m\u001b[0m\u001b[0;34m\u001b[0m\u001b[0m\n\u001b[1;32m      2\u001b[0m \u001b[0mmerged_data_file\u001b[0m \u001b[0;34m=\u001b[0m \u001b[0;34m\"dataset_7weeks.txt\"\u001b[0m\u001b[0;34m\u001b[0m\u001b[0;34m\u001b[0m\u001b[0m\n\u001b[0;32m----> 3\u001b[0;31m \u001b[0mdf_full\u001b[0m \u001b[0;34m=\u001b[0m \u001b[0mpd\u001b[0m\u001b[0;34m.\u001b[0m\u001b[0mread_csv\u001b[0m\u001b[0;34m(\u001b[0m\u001b[0mmerged_data_file\u001b[0m\u001b[0;34m,\u001b[0m \u001b[0mdelim_whitespace\u001b[0m\u001b[0;34m=\u001b[0m\u001b[0;32mTrue\u001b[0m\u001b[0;34m,\u001b[0m \u001b[0mheader\u001b[0m\u001b[0;34m=\u001b[0m\u001b[0;32mNone\u001b[0m\u001b[0;34m)\u001b[0m\u001b[0;34m\u001b[0m\u001b[0;34m\u001b[0m\u001b[0m\n\u001b[0m\u001b[1;32m      4\u001b[0m \u001b[0;34m\u001b[0m\u001b[0m\n\u001b[1;32m      5\u001b[0m \u001b[0;31m# Select specific columns from df_full, not df\u001b[0m\u001b[0;34m\u001b[0m\u001b[0;34m\u001b[0m\u001b[0;34m\u001b[0m\u001b[0m\n",
      "\u001b[0;32m~/tensorflow-test/env/lib/python3.8/site-packages/pandas/util/_decorators.py\u001b[0m in \u001b[0;36mwrapper\u001b[0;34m(*args, **kwargs)\u001b[0m\n\u001b[1;32m    309\u001b[0m                     \u001b[0mstacklevel\u001b[0m\u001b[0;34m=\u001b[0m\u001b[0mstacklevel\u001b[0m\u001b[0;34m,\u001b[0m\u001b[0;34m\u001b[0m\u001b[0;34m\u001b[0m\u001b[0m\n\u001b[1;32m    310\u001b[0m                 )\n\u001b[0;32m--> 311\u001b[0;31m             \u001b[0;32mreturn\u001b[0m \u001b[0mfunc\u001b[0m\u001b[0;34m(\u001b[0m\u001b[0;34m*\u001b[0m\u001b[0margs\u001b[0m\u001b[0;34m,\u001b[0m \u001b[0;34m**\u001b[0m\u001b[0mkwargs\u001b[0m\u001b[0;34m)\u001b[0m\u001b[0;34m\u001b[0m\u001b[0;34m\u001b[0m\u001b[0m\n\u001b[0m\u001b[1;32m    312\u001b[0m \u001b[0;34m\u001b[0m\u001b[0m\n\u001b[1;32m    313\u001b[0m         \u001b[0;32mreturn\u001b[0m \u001b[0mwrapper\u001b[0m\u001b[0;34m\u001b[0m\u001b[0;34m\u001b[0m\u001b[0m\n",
      "\u001b[0;32m~/tensorflow-test/env/lib/python3.8/site-packages/pandas/io/parsers/readers.py\u001b[0m in \u001b[0;36mread_csv\u001b[0;34m(filepath_or_buffer, sep, delimiter, header, names, index_col, usecols, squeeze, prefix, mangle_dupe_cols, dtype, engine, converters, true_values, false_values, skipinitialspace, skiprows, skipfooter, nrows, na_values, keep_default_na, na_filter, verbose, skip_blank_lines, parse_dates, infer_datetime_format, keep_date_col, date_parser, dayfirst, cache_dates, iterator, chunksize, compression, thousands, decimal, lineterminator, quotechar, quoting, doublequote, escapechar, comment, encoding, encoding_errors, dialect, error_bad_lines, warn_bad_lines, on_bad_lines, delim_whitespace, low_memory, memory_map, float_precision, storage_options)\u001b[0m\n\u001b[1;32m    584\u001b[0m     \u001b[0mkwds\u001b[0m\u001b[0;34m.\u001b[0m\u001b[0mupdate\u001b[0m\u001b[0;34m(\u001b[0m\u001b[0mkwds_defaults\u001b[0m\u001b[0;34m)\u001b[0m\u001b[0;34m\u001b[0m\u001b[0;34m\u001b[0m\u001b[0m\n\u001b[1;32m    585\u001b[0m \u001b[0;34m\u001b[0m\u001b[0m\n\u001b[0;32m--> 586\u001b[0;31m     \u001b[0;32mreturn\u001b[0m \u001b[0m_read\u001b[0m\u001b[0;34m(\u001b[0m\u001b[0mfilepath_or_buffer\u001b[0m\u001b[0;34m,\u001b[0m \u001b[0mkwds\u001b[0m\u001b[0;34m)\u001b[0m\u001b[0;34m\u001b[0m\u001b[0;34m\u001b[0m\u001b[0m\n\u001b[0m\u001b[1;32m    587\u001b[0m \u001b[0;34m\u001b[0m\u001b[0m\n\u001b[1;32m    588\u001b[0m \u001b[0;34m\u001b[0m\u001b[0m\n",
      "\u001b[0;32m~/tensorflow-test/env/lib/python3.8/site-packages/pandas/io/parsers/readers.py\u001b[0m in \u001b[0;36m_read\u001b[0;34m(filepath_or_buffer, kwds)\u001b[0m\n\u001b[1;32m    480\u001b[0m \u001b[0;34m\u001b[0m\u001b[0m\n\u001b[1;32m    481\u001b[0m     \u001b[0;31m# Create the parser.\u001b[0m\u001b[0;34m\u001b[0m\u001b[0;34m\u001b[0m\u001b[0;34m\u001b[0m\u001b[0m\n\u001b[0;32m--> 482\u001b[0;31m     \u001b[0mparser\u001b[0m \u001b[0;34m=\u001b[0m \u001b[0mTextFileReader\u001b[0m\u001b[0;34m(\u001b[0m\u001b[0mfilepath_or_buffer\u001b[0m\u001b[0;34m,\u001b[0m \u001b[0;34m**\u001b[0m\u001b[0mkwds\u001b[0m\u001b[0;34m)\u001b[0m\u001b[0;34m\u001b[0m\u001b[0;34m\u001b[0m\u001b[0m\n\u001b[0m\u001b[1;32m    483\u001b[0m \u001b[0;34m\u001b[0m\u001b[0m\n\u001b[1;32m    484\u001b[0m     \u001b[0;32mif\u001b[0m \u001b[0mchunksize\u001b[0m \u001b[0;32mor\u001b[0m \u001b[0miterator\u001b[0m\u001b[0;34m:\u001b[0m\u001b[0;34m\u001b[0m\u001b[0;34m\u001b[0m\u001b[0m\n",
      "\u001b[0;32m~/tensorflow-test/env/lib/python3.8/site-packages/pandas/io/parsers/readers.py\u001b[0m in \u001b[0;36m__init__\u001b[0;34m(self, f, engine, **kwds)\u001b[0m\n\u001b[1;32m    809\u001b[0m             \u001b[0mself\u001b[0m\u001b[0;34m.\u001b[0m\u001b[0moptions\u001b[0m\u001b[0;34m[\u001b[0m\u001b[0;34m\"has_index_names\"\u001b[0m\u001b[0;34m]\u001b[0m \u001b[0;34m=\u001b[0m \u001b[0mkwds\u001b[0m\u001b[0;34m[\u001b[0m\u001b[0;34m\"has_index_names\"\u001b[0m\u001b[0;34m]\u001b[0m\u001b[0;34m\u001b[0m\u001b[0;34m\u001b[0m\u001b[0m\n\u001b[1;32m    810\u001b[0m \u001b[0;34m\u001b[0m\u001b[0m\n\u001b[0;32m--> 811\u001b[0;31m         \u001b[0mself\u001b[0m\u001b[0;34m.\u001b[0m\u001b[0m_engine\u001b[0m \u001b[0;34m=\u001b[0m \u001b[0mself\u001b[0m\u001b[0;34m.\u001b[0m\u001b[0m_make_engine\u001b[0m\u001b[0;34m(\u001b[0m\u001b[0mself\u001b[0m\u001b[0;34m.\u001b[0m\u001b[0mengine\u001b[0m\u001b[0;34m)\u001b[0m\u001b[0;34m\u001b[0m\u001b[0;34m\u001b[0m\u001b[0m\n\u001b[0m\u001b[1;32m    812\u001b[0m \u001b[0;34m\u001b[0m\u001b[0m\n\u001b[1;32m    813\u001b[0m     \u001b[0;32mdef\u001b[0m \u001b[0mclose\u001b[0m\u001b[0;34m(\u001b[0m\u001b[0mself\u001b[0m\u001b[0;34m)\u001b[0m\u001b[0;34m:\u001b[0m\u001b[0;34m\u001b[0m\u001b[0;34m\u001b[0m\u001b[0m\n",
      "\u001b[0;32m~/tensorflow-test/env/lib/python3.8/site-packages/pandas/io/parsers/readers.py\u001b[0m in \u001b[0;36m_make_engine\u001b[0;34m(self, engine)\u001b[0m\n\u001b[1;32m   1038\u001b[0m             )\n\u001b[1;32m   1039\u001b[0m         \u001b[0;31m# error: Too many arguments for \"ParserBase\"\u001b[0m\u001b[0;34m\u001b[0m\u001b[0;34m\u001b[0m\u001b[0;34m\u001b[0m\u001b[0m\n\u001b[0;32m-> 1040\u001b[0;31m         \u001b[0;32mreturn\u001b[0m \u001b[0mmapping\u001b[0m\u001b[0;34m[\u001b[0m\u001b[0mengine\u001b[0m\u001b[0;34m]\u001b[0m\u001b[0;34m(\u001b[0m\u001b[0mself\u001b[0m\u001b[0;34m.\u001b[0m\u001b[0mf\u001b[0m\u001b[0;34m,\u001b[0m \u001b[0;34m**\u001b[0m\u001b[0mself\u001b[0m\u001b[0;34m.\u001b[0m\u001b[0moptions\u001b[0m\u001b[0;34m)\u001b[0m  \u001b[0;31m# type: ignore[call-arg]\u001b[0m\u001b[0;34m\u001b[0m\u001b[0;34m\u001b[0m\u001b[0m\n\u001b[0m\u001b[1;32m   1041\u001b[0m \u001b[0;34m\u001b[0m\u001b[0m\n\u001b[1;32m   1042\u001b[0m     \u001b[0;32mdef\u001b[0m \u001b[0m_failover_to_python\u001b[0m\u001b[0;34m(\u001b[0m\u001b[0mself\u001b[0m\u001b[0;34m)\u001b[0m\u001b[0;34m:\u001b[0m\u001b[0;34m\u001b[0m\u001b[0;34m\u001b[0m\u001b[0m\n",
      "\u001b[0;32m~/tensorflow-test/env/lib/python3.8/site-packages/pandas/io/parsers/c_parser_wrapper.py\u001b[0m in \u001b[0;36m__init__\u001b[0;34m(self, src, **kwds)\u001b[0m\n\u001b[1;32m     49\u001b[0m \u001b[0;34m\u001b[0m\u001b[0m\n\u001b[1;32m     50\u001b[0m         \u001b[0;31m# open handles\u001b[0m\u001b[0;34m\u001b[0m\u001b[0;34m\u001b[0m\u001b[0;34m\u001b[0m\u001b[0m\n\u001b[0;32m---> 51\u001b[0;31m         \u001b[0mself\u001b[0m\u001b[0;34m.\u001b[0m\u001b[0m_open_handles\u001b[0m\u001b[0;34m(\u001b[0m\u001b[0msrc\u001b[0m\u001b[0;34m,\u001b[0m \u001b[0mkwds\u001b[0m\u001b[0;34m)\u001b[0m\u001b[0;34m\u001b[0m\u001b[0;34m\u001b[0m\u001b[0m\n\u001b[0m\u001b[1;32m     52\u001b[0m         \u001b[0;32massert\u001b[0m \u001b[0mself\u001b[0m\u001b[0;34m.\u001b[0m\u001b[0mhandles\u001b[0m \u001b[0;32mis\u001b[0m \u001b[0;32mnot\u001b[0m \u001b[0;32mNone\u001b[0m\u001b[0;34m\u001b[0m\u001b[0;34m\u001b[0m\u001b[0m\n\u001b[1;32m     53\u001b[0m \u001b[0;34m\u001b[0m\u001b[0m\n",
      "\u001b[0;32m~/tensorflow-test/env/lib/python3.8/site-packages/pandas/io/parsers/base_parser.py\u001b[0m in \u001b[0;36m_open_handles\u001b[0;34m(self, src, kwds)\u001b[0m\n\u001b[1;32m    220\u001b[0m         \u001b[0mLet\u001b[0m \u001b[0mthe\u001b[0m \u001b[0mreaders\u001b[0m \u001b[0mopen\u001b[0m \u001b[0mIOHandles\u001b[0m \u001b[0mafter\u001b[0m \u001b[0mthey\u001b[0m \u001b[0mare\u001b[0m \u001b[0mdone\u001b[0m \u001b[0;32mwith\u001b[0m \u001b[0mtheir\u001b[0m \u001b[0mpotential\u001b[0m \u001b[0mraises\u001b[0m\u001b[0;34m.\u001b[0m\u001b[0;34m\u001b[0m\u001b[0;34m\u001b[0m\u001b[0m\n\u001b[1;32m    221\u001b[0m         \"\"\"\n\u001b[0;32m--> 222\u001b[0;31m         self.handles = get_handle(\n\u001b[0m\u001b[1;32m    223\u001b[0m             \u001b[0msrc\u001b[0m\u001b[0;34m,\u001b[0m\u001b[0;34m\u001b[0m\u001b[0;34m\u001b[0m\u001b[0m\n\u001b[1;32m    224\u001b[0m             \u001b[0;34m\"r\"\u001b[0m\u001b[0;34m,\u001b[0m\u001b[0;34m\u001b[0m\u001b[0;34m\u001b[0m\u001b[0m\n",
      "\u001b[0;32m~/tensorflow-test/env/lib/python3.8/site-packages/pandas/io/common.py\u001b[0m in \u001b[0;36mget_handle\u001b[0;34m(path_or_buf, mode, encoding, compression, memory_map, is_text, errors, storage_options)\u001b[0m\n\u001b[1;32m    700\u001b[0m         \u001b[0;32mif\u001b[0m \u001b[0mioargs\u001b[0m\u001b[0;34m.\u001b[0m\u001b[0mencoding\u001b[0m \u001b[0;32mand\u001b[0m \u001b[0;34m\"b\"\u001b[0m \u001b[0;32mnot\u001b[0m \u001b[0;32min\u001b[0m \u001b[0mioargs\u001b[0m\u001b[0;34m.\u001b[0m\u001b[0mmode\u001b[0m\u001b[0;34m:\u001b[0m\u001b[0;34m\u001b[0m\u001b[0;34m\u001b[0m\u001b[0m\n\u001b[1;32m    701\u001b[0m             \u001b[0;31m# Encoding\u001b[0m\u001b[0;34m\u001b[0m\u001b[0;34m\u001b[0m\u001b[0;34m\u001b[0m\u001b[0m\n\u001b[0;32m--> 702\u001b[0;31m             handle = open(\n\u001b[0m\u001b[1;32m    703\u001b[0m                 \u001b[0mhandle\u001b[0m\u001b[0;34m,\u001b[0m\u001b[0;34m\u001b[0m\u001b[0;34m\u001b[0m\u001b[0m\n\u001b[1;32m    704\u001b[0m                 \u001b[0mioargs\u001b[0m\u001b[0;34m.\u001b[0m\u001b[0mmode\u001b[0m\u001b[0;34m,\u001b[0m\u001b[0;34m\u001b[0m\u001b[0;34m\u001b[0m\u001b[0m\n",
      "\u001b[0;31mFileNotFoundError\u001b[0m: [Errno 2] No such file or directory: 'dataset_7weeks.txt'"
     ]
    }
   ],
   "source": [
    "# Read merged_data.txt into a DataFrame\n",
    "merged_data_file = \"dataset_7weeks.txt\"\n",
    "df_full = pd.read_csv(merged_data_file, delim_whitespace=True, header=None)\n",
    "\n",
    "# Select specific columns from df_full, not df\n",
    "df_full = df_full.iloc[:, [1,2,3,4,5,6,7,8,9]]\n",
    "\n",
    "# Rename columns\n",
    "df_full.columns = ['date', 'time', 'duration', 'server', 'sourcePort', 'destinationPort','srcIP','destIP', 'anomaly']\n",
    "\n",
    "# Print the resulting DataFrame\n",
    "df_full\n"
   ]
  },
  {
   "cell_type": "code",
   "execution_count": 376,
   "metadata": {},
   "outputs": [
    {
     "name": "stderr",
     "output_type": "stream",
     "text": [
      "/Users/anthonyekle/tensorflow-test/env/lib/python3.8/site-packages/IPython/core/interactiveshell.py:3457: DtypeWarning: Columns (5,6) have mixed types.Specify dtype option on import or set low_memory=False.\n",
      "  exec(code_obj, self.user_global_ns, self.user_ns)\n"
     ]
    },
    {
     "data": {
      "text/html": [
       "<div>\n",
       "<style scoped>\n",
       "    .dataframe tbody tr th:only-of-type {\n",
       "        vertical-align: middle;\n",
       "    }\n",
       "\n",
       "    .dataframe tbody tr th {\n",
       "        vertical-align: top;\n",
       "    }\n",
       "\n",
       "    .dataframe thead th {\n",
       "        text-align: right;\n",
       "    }\n",
       "</style>\n",
       "<table border=\"1\" class=\"dataframe\">\n",
       "  <thead>\n",
       "    <tr style=\"text-align: right;\">\n",
       "      <th></th>\n",
       "      <th>date</th>\n",
       "      <th>time</th>\n",
       "      <th>source</th>\n",
       "      <th>destination</th>\n",
       "      <th>anomaly</th>\n",
       "    </tr>\n",
       "  </thead>\n",
       "  <tbody>\n",
       "    <tr>\n",
       "      <th>0</th>\n",
       "      <td>06/02/1998</td>\n",
       "      <td>00:00:07</td>\n",
       "      <td>2127</td>\n",
       "      <td>80</td>\n",
       "      <td>0</td>\n",
       "    </tr>\n",
       "    <tr>\n",
       "      <th>1</th>\n",
       "      <td>06/02/1998</td>\n",
       "      <td>00:00:07</td>\n",
       "      <td>2139</td>\n",
       "      <td>80</td>\n",
       "      <td>0</td>\n",
       "    </tr>\n",
       "    <tr>\n",
       "      <th>2</th>\n",
       "      <td>06/02/1998</td>\n",
       "      <td>00:00:07</td>\n",
       "      <td>2128</td>\n",
       "      <td>80</td>\n",
       "      <td>0</td>\n",
       "    </tr>\n",
       "    <tr>\n",
       "      <th>3</th>\n",
       "      <td>06/02/1998</td>\n",
       "      <td>00:00:07</td>\n",
       "      <td>2129</td>\n",
       "      <td>80</td>\n",
       "      <td>0</td>\n",
       "    </tr>\n",
       "    <tr>\n",
       "      <th>4</th>\n",
       "      <td>06/02/1998</td>\n",
       "      <td>00:00:07</td>\n",
       "      <td>2130</td>\n",
       "      <td>80</td>\n",
       "      <td>0</td>\n",
       "    </tr>\n",
       "    <tr>\n",
       "      <th>...</th>\n",
       "      <td>...</td>\n",
       "      <td>...</td>\n",
       "      <td>...</td>\n",
       "      <td>...</td>\n",
       "      <td>...</td>\n",
       "    </tr>\n",
       "    <tr>\n",
       "      <th>3000789</th>\n",
       "      <td>07/18/1998</td>\n",
       "      <td>05:27:45</td>\n",
       "      <td>-</td>\n",
       "      <td>-</td>\n",
       "      <td>0</td>\n",
       "    </tr>\n",
       "    <tr>\n",
       "      <th>3000790</th>\n",
       "      <td>07/18/1998</td>\n",
       "      <td>05:27:45</td>\n",
       "      <td>-</td>\n",
       "      <td>-</td>\n",
       "      <td>0</td>\n",
       "    </tr>\n",
       "    <tr>\n",
       "      <th>3000791</th>\n",
       "      <td>07/18/1998</td>\n",
       "      <td>05:37:45</td>\n",
       "      <td>-</td>\n",
       "      <td>-</td>\n",
       "      <td>0</td>\n",
       "    </tr>\n",
       "    <tr>\n",
       "      <th>3000792</th>\n",
       "      <td>07/18/1998</td>\n",
       "      <td>05:38:40</td>\n",
       "      <td>1020</td>\n",
       "      <td>514</td>\n",
       "      <td>0</td>\n",
       "    </tr>\n",
       "    <tr>\n",
       "      <th>3000793</th>\n",
       "      <td>07/18/1998</td>\n",
       "      <td>05:38:44</td>\n",
       "      <td>1023</td>\n",
       "      <td>1019</td>\n",
       "      <td>0</td>\n",
       "    </tr>\n",
       "  </tbody>\n",
       "</table>\n",
       "<p>3000794 rows × 5 columns</p>\n",
       "</div>"
      ],
      "text/plain": [
       "               date      time source destination  anomaly\n",
       "0        06/02/1998  00:00:07   2127          80        0\n",
       "1        06/02/1998  00:00:07   2139          80        0\n",
       "2        06/02/1998  00:00:07   2128          80        0\n",
       "3        06/02/1998  00:00:07   2129          80        0\n",
       "4        06/02/1998  00:00:07   2130          80        0\n",
       "...             ...       ...    ...         ...      ...\n",
       "3000789  07/18/1998  05:27:45      -           -        0\n",
       "3000790  07/18/1998  05:27:45      -           -        0\n",
       "3000791  07/18/1998  05:37:45      -           -        0\n",
       "3000792  07/18/1998  05:38:40   1020         514        0\n",
       "3000793  07/18/1998  05:38:44   1023        1019        0\n",
       "\n",
       "[3000794 rows x 5 columns]"
      ]
     },
     "execution_count": 376,
     "metadata": {},
     "output_type": "execute_result"
    }
   ],
   "source": [
    "\n",
    "# Read merged_data.txt into a DataFrame\n",
    "#merged_data_file = \"data_1_2.txt\"\n",
    "merged_data_file = \"data_full_7wks.txt\"\n",
    "\n",
    "df = pd.read_csv(merged_data_file, delim_whitespace=True, header=None)\n",
    "\n",
    "# Select specific columns\n",
    "df = df.iloc[:, [1, 2, 5, 6, 9]]\n",
    "\n",
    "# Rename columns\n",
    "df.columns = ['date', 'time', 'source', 'destination', 'anomaly']\n",
    "\n",
    "# Print the resulting DataFrame\n",
    "df\n"
   ]
  },
  {
   "cell_type": "code",
   "execution_count": 377,
   "metadata": {},
   "outputs": [
    {
     "name": "stdout",
     "output_type": "stream",
     "text": [
      "         date      time source destination  anomaly\n",
      "1  06/02/1998  00:00:07   2139          80        0\n"
     ]
    }
   ],
   "source": [
    "print(df[1:2])"
   ]
  },
  {
   "cell_type": "markdown",
   "metadata": {},
   "source": [
    "## 03 Visualizing   dataset and feature engineering"
   ]
  },
  {
   "cell_type": "code",
   "execution_count": 56,
   "metadata": {},
   "outputs": [
    {
     "data": {
      "image/png": "[encoded data removed]",
      "text/plain": [
       "<Figure size 1080x720 with 1 Axes>"
      ]
     },
     "metadata": {},
     "output_type": "display_data"
    }
   ],
   "source": [
    "import pandas as pd\n",
    "import networkx as nx\n",
    "import matplotlib.pyplot as plt\n",
    "\n",
    "# Assuming you have loaded your dataset into a DataFrame named 'df'\n",
    "# If not, load the dataset as described in the previous responses\n",
    "\n",
    "# Create a directed graph\n",
    "G = nx.DiGraph()\n",
    "\n",
    "# Add edges to the graph using the 'source' and 'destination' columns\n",
    "for _, row in df[0:9000].iterrows():\n",
    "    G.add_edge(row['source'], row['destination'])\n",
    "\n",
    "# Plot the directed graph\n",
    "plt.figure(figsize=(15, 10))\n",
    "pos = nx.spring_layout(G)  # You can choose a different layout algorithm\n",
    "nx.draw(G, pos, with_labels=True, font_size=8, node_size=1000, font_color=\"black\", font_weight=\"bold\", node_color=\"skyblue\", arrowsize=10)\n",
    "\n",
    "plt.title(\"DARPA-1998: Directed Graph of IP Addresses\")\n",
    "# Save the figure\n",
    "plt.savefig(\"DARPA_directed_graph.png\")\n",
    "plt.show()\n",
    "\n"
   ]
  },
  {
   "cell_type": "code",
   "execution_count": 378,
   "metadata": {},
   "outputs": [],
   "source": [
    "# exclude collapsing data\n",
    "tcp = df\n",
    "tcp = tcp[tcp.date != '07/32/1998']\n",
    "\n",
    "# acquire datetime information\n",
    "tcp['date_time'] = pd.to_datetime(tcp['date'] + ' ' + tcp['time'], errors='coerce', format='%m/%d/%Y %H:%M:%S')\n",
    "tcp = tcp.drop(['date', 'time'], axis=1)\n"
   ]
  },
  {
   "cell_type": "code",
   "execution_count": 379,
   "metadata": {},
   "outputs": [],
   "source": [
    "# exclude collapsing data\n",
    "tcp = df\n",
    "tcp = tcp[tcp.date != '07/32/1998']\n",
    "\n",
    "# acquire datetime information\n",
    "tcp['date_time'] = tcp['date'] + ' ' + tcp['time']\n",
    "tcp = tcp.drop('date', axis=1)\n",
    "tcp = tcp.drop('time', axis=1)\n",
    "tcp['date_time'] = pd.to_datetime(tcp['date_time'],errors='coerce',  format='%m/%d/%Y %H:%M:%S')"
   ]
  },
  {
   "cell_type": "code",
   "execution_count": 380,
   "metadata": {},
   "outputs": [
    {
     "data": {
      "text/plain": [
       "1    1856498\n",
       "0    1144296\n",
       "Name: anomaly, dtype: int64"
      ]
     },
     "execution_count": 380,
     "metadata": {},
     "output_type": "execute_result"
    }
   ],
   "source": [
    "tcp.anomaly.value_counts()"
   ]
  },
  {
   "cell_type": "code",
   "execution_count": 381,
   "metadata": {},
   "outputs": [
    {
     "data": {
      "text/html": [
       "<div>\n",
       "<style scoped>\n",
       "    .dataframe tbody tr th:only-of-type {\n",
       "        vertical-align: middle;\n",
       "    }\n",
       "\n",
       "    .dataframe tbody tr th {\n",
       "        vertical-align: top;\n",
       "    }\n",
       "\n",
       "    .dataframe thead th {\n",
       "        text-align: right;\n",
       "    }\n",
       "</style>\n",
       "<table border=\"1\" class=\"dataframe\">\n",
       "  <thead>\n",
       "    <tr style=\"text-align: right;\">\n",
       "      <th></th>\n",
       "      <th>source</th>\n",
       "      <th>destination</th>\n",
       "      <th>anomaly</th>\n",
       "      <th>date_time</th>\n",
       "    </tr>\n",
       "  </thead>\n",
       "  <tbody>\n",
       "    <tr>\n",
       "      <th>0</th>\n",
       "      <td>2127</td>\n",
       "      <td>80</td>\n",
       "      <td>0</td>\n",
       "      <td>1998-06-02 00:00:07</td>\n",
       "    </tr>\n",
       "    <tr>\n",
       "      <th>1</th>\n",
       "      <td>2139</td>\n",
       "      <td>80</td>\n",
       "      <td>0</td>\n",
       "      <td>1998-06-02 00:00:07</td>\n",
       "    </tr>\n",
       "    <tr>\n",
       "      <th>2</th>\n",
       "      <td>2128</td>\n",
       "      <td>80</td>\n",
       "      <td>0</td>\n",
       "      <td>1998-06-02 00:00:07</td>\n",
       "    </tr>\n",
       "    <tr>\n",
       "      <th>3</th>\n",
       "      <td>2129</td>\n",
       "      <td>80</td>\n",
       "      <td>0</td>\n",
       "      <td>1998-06-02 00:00:07</td>\n",
       "    </tr>\n",
       "    <tr>\n",
       "      <th>4</th>\n",
       "      <td>2130</td>\n",
       "      <td>80</td>\n",
       "      <td>0</td>\n",
       "      <td>1998-06-02 00:00:07</td>\n",
       "    </tr>\n",
       "    <tr>\n",
       "      <th>...</th>\n",
       "      <td>...</td>\n",
       "      <td>...</td>\n",
       "      <td>...</td>\n",
       "      <td>...</td>\n",
       "    </tr>\n",
       "    <tr>\n",
       "      <th>3000789</th>\n",
       "      <td>-</td>\n",
       "      <td>-</td>\n",
       "      <td>0</td>\n",
       "      <td>1998-07-18 05:27:45</td>\n",
       "    </tr>\n",
       "    <tr>\n",
       "      <th>3000790</th>\n",
       "      <td>-</td>\n",
       "      <td>-</td>\n",
       "      <td>0</td>\n",
       "      <td>1998-07-18 05:27:45</td>\n",
       "    </tr>\n",
       "    <tr>\n",
       "      <th>3000791</th>\n",
       "      <td>-</td>\n",
       "      <td>-</td>\n",
       "      <td>0</td>\n",
       "      <td>1998-07-18 05:37:45</td>\n",
       "    </tr>\n",
       "    <tr>\n",
       "      <th>3000792</th>\n",
       "      <td>1020</td>\n",
       "      <td>514</td>\n",
       "      <td>0</td>\n",
       "      <td>1998-07-18 05:38:40</td>\n",
       "    </tr>\n",
       "    <tr>\n",
       "      <th>3000793</th>\n",
       "      <td>1023</td>\n",
       "      <td>1019</td>\n",
       "      <td>0</td>\n",
       "      <td>1998-07-18 05:38:44</td>\n",
       "    </tr>\n",
       "  </tbody>\n",
       "</table>\n",
       "<p>3000794 rows × 4 columns</p>\n",
       "</div>"
      ],
      "text/plain": [
       "        source destination  anomaly           date_time\n",
       "0         2127          80        0 1998-06-02 00:00:07\n",
       "1         2139          80        0 1998-06-02 00:00:07\n",
       "2         2128          80        0 1998-06-02 00:00:07\n",
       "3         2129          80        0 1998-06-02 00:00:07\n",
       "4         2130          80        0 1998-06-02 00:00:07\n",
       "...        ...         ...      ...                 ...\n",
       "3000789      -           -        0 1998-07-18 05:27:45\n",
       "3000790      -           -        0 1998-07-18 05:27:45\n",
       "3000791      -           -        0 1998-07-18 05:37:45\n",
       "3000792   1020         514        0 1998-07-18 05:38:40\n",
       "3000793   1023        1019        0 1998-07-18 05:38:44\n",
       "\n",
       "[3000794 rows x 4 columns]"
      ]
     },
     "execution_count": 381,
     "metadata": {},
     "output_type": "execute_result"
    }
   ],
   "source": [
    "tcp"
   ]
  },
  {
   "cell_type": "code",
   "execution_count": 382,
   "metadata": {},
   "outputs": [],
   "source": [
    "# calculate how many hours passed since the initial time\n",
    "initial_time = tcp['date_time'].min()\n",
    "tcp['date_time'] = tcp['date_time'] - initial_time\n",
    "tcp['hours_past'] = tcp['date_time'].dt.days * 24 + tcp['date_time'].dt.seconds//3600\n",
    "tcp = tcp.drop('date_time', axis=1)\n",
    "tcp = tcp.sort_values('hours_past')\n"
   ]
  },
  {
   "cell_type": "code",
   "execution_count": 383,
   "metadata": {},
   "outputs": [
    {
     "data": {
      "text/plain": [
       "2793445"
      ]
     },
     "execution_count": 383,
     "metadata": {},
     "output_type": "execute_result"
    }
   ],
   "source": [
    "tcp.hours_past.fillna(0, inplace=True)\n",
    "# Remove rows with '-' values across the entire DataFrame\n",
    "tcp = tcp.replace('-', pd.NA).dropna()\n",
    "len(tcp)"
   ]
  },
  {
   "cell_type": "code",
   "execution_count": 389,
   "metadata": {},
   "outputs": [
    {
     "name": "stdout",
     "output_type": "stream",
     "text": [
      "Empty DataFrame\n",
      "Columns: [source, destination, anomaly, hours_past]\n",
      "Index: []\n",
      "        source destination  anomaly  hours_past\n",
      "477972   49724     customs        1       397.0\n"
     ]
    }
   ],
   "source": [
    "# Search for special characters in the column\n",
    "special_char_rows = tcp[tcp['source'].astype(str).str.contains('[^0-9]')]\n",
    "special_char_rows2 = tcp[tcp['destination'].astype(str).str.contains('[^0-9]')]\n",
    "\n",
    "# Display the DataFrame with rows containing special characters\n",
    "print(special_char_rows)\n",
    "print(special_char_rows2)"
   ]
  },
  {
   "cell_type": "code",
   "execution_count": 391,
   "metadata": {},
   "outputs": [],
   "source": [
    "# remove such rows\n",
    "#tcp.loc[477972]\n",
    "\n",
    "# Remove the row with index 49724\n",
    "tcp = tcp.drop(477972, axis=0)"
   ]
  },
  {
   "cell_type": "code",
   "execution_count": 392,
   "metadata": {},
   "outputs": [
    {
     "name": "stdout",
     "output_type": "stream",
     "text": [
      "Empty DataFrame\n",
      "Columns: [source, destination, anomaly, hours_past]\n",
      "Index: []\n",
      "Empty DataFrame\n",
      "Columns: [source, destination, anomaly, hours_past]\n",
      "Index: []\n"
     ]
    }
   ],
   "source": [
    "# Convert the column to integers\n",
    "tcp['source'] = tcp['source'].apply(lambda x: int(''.join(char for char in str(x) if char.isdigit())))\n",
    "tcp['destination'] = tcp['destination'].apply(lambda x: int(''.join(char for char in str(x) if char.isdigit())))\n",
    "\n",
    "# Search for special characters in the column\n",
    "special_char_rows = tcp[tcp['source'].astype(str).str.contains('[^0-9]')]\n",
    "special_char_rows2 = tcp[tcp['destination'].astype(str).str.contains('[^0-9]')]\n",
    "\n",
    "# Display the DataFrame with rows containing special characters\n",
    "print(special_char_rows)\n",
    "print(special_char_rows2)"
   ]
  },
  {
   "cell_type": "code",
   "execution_count": 393,
   "metadata": {},
   "outputs": [
    {
     "data": {
      "text/plain": [
       "3824        80\n",
       "2742        80\n",
       "2743        80\n",
       "2744        80\n",
       "2745        80\n",
       "          ... \n",
       "2750458    123\n",
       "2750455    123\n",
       "2750452    123\n",
       "2750451    123\n",
       "2750464     53\n",
       "Name: destination, Length: 2793443, dtype: int64"
      ]
     },
     "execution_count": 393,
     "metadata": {},
     "output_type": "execute_result"
    }
   ],
   "source": [
    "tcp.destination"
   ]
  },
  {
   "cell_type": "code",
   "execution_count": null,
   "metadata": {},
   "outputs": [],
   "source": []
  },
  {
   "cell_type": "code",
   "execution_count": 394,
   "metadata": {},
   "outputs": [
    {
     "data": {
      "text/html": [
       "<div>\n",
       "<style scoped>\n",
       "    .dataframe tbody tr th:only-of-type {\n",
       "        vertical-align: middle;\n",
       "    }\n",
       "\n",
       "    .dataframe tbody tr th {\n",
       "        vertical-align: top;\n",
       "    }\n",
       "\n",
       "    .dataframe thead th {\n",
       "        text-align: right;\n",
       "    }\n",
       "</style>\n",
       "<table border=\"1\" class=\"dataframe\">\n",
       "  <thead>\n",
       "    <tr style=\"text-align: right;\">\n",
       "      <th></th>\n",
       "      <th>source</th>\n",
       "      <th>destination</th>\n",
       "      <th>anomaly</th>\n",
       "      <th>hours_past</th>\n",
       "    </tr>\n",
       "  </thead>\n",
       "  <tbody>\n",
       "    <tr>\n",
       "      <th>3824</th>\n",
       "      <td>21530</td>\n",
       "      <td>80</td>\n",
       "      <td>0</td>\n",
       "      <td>0.0</td>\n",
       "    </tr>\n",
       "    <tr>\n",
       "      <th>2742</th>\n",
       "      <td>10845</td>\n",
       "      <td>80</td>\n",
       "      <td>0</td>\n",
       "      <td>0.0</td>\n",
       "    </tr>\n",
       "    <tr>\n",
       "      <th>2743</th>\n",
       "      <td>10844</td>\n",
       "      <td>80</td>\n",
       "      <td>0</td>\n",
       "      <td>0.0</td>\n",
       "    </tr>\n",
       "    <tr>\n",
       "      <th>2744</th>\n",
       "      <td>10863</td>\n",
       "      <td>80</td>\n",
       "      <td>0</td>\n",
       "      <td>0.0</td>\n",
       "    </tr>\n",
       "    <tr>\n",
       "      <th>2745</th>\n",
       "      <td>10864</td>\n",
       "      <td>80</td>\n",
       "      <td>0</td>\n",
       "      <td>0.0</td>\n",
       "    </tr>\n",
       "    <tr>\n",
       "      <th>...</th>\n",
       "      <td>...</td>\n",
       "      <td>...</td>\n",
       "      <td>...</td>\n",
       "      <td>...</td>\n",
       "    </tr>\n",
       "    <tr>\n",
       "      <th>2750458</th>\n",
       "      <td>123</td>\n",
       "      <td>123</td>\n",
       "      <td>0</td>\n",
       "      <td>1149.0</td>\n",
       "    </tr>\n",
       "    <tr>\n",
       "      <th>2750455</th>\n",
       "      <td>123</td>\n",
       "      <td>123</td>\n",
       "      <td>0</td>\n",
       "      <td>1149.0</td>\n",
       "    </tr>\n",
       "    <tr>\n",
       "      <th>2750452</th>\n",
       "      <td>123</td>\n",
       "      <td>123</td>\n",
       "      <td>0</td>\n",
       "      <td>1149.0</td>\n",
       "    </tr>\n",
       "    <tr>\n",
       "      <th>2750451</th>\n",
       "      <td>123</td>\n",
       "      <td>123</td>\n",
       "      <td>0</td>\n",
       "      <td>1149.0</td>\n",
       "    </tr>\n",
       "    <tr>\n",
       "      <th>2750464</th>\n",
       "      <td>32851</td>\n",
       "      <td>53</td>\n",
       "      <td>0</td>\n",
       "      <td>1149.0</td>\n",
       "    </tr>\n",
       "  </tbody>\n",
       "</table>\n",
       "<p>2793443 rows × 4 columns</p>\n",
       "</div>"
      ],
      "text/plain": [
       "         source  destination  anomaly  hours_past\n",
       "3824      21530           80        0         0.0\n",
       "2742      10845           80        0         0.0\n",
       "2743      10844           80        0         0.0\n",
       "2744      10863           80        0         0.0\n",
       "2745      10864           80        0         0.0\n",
       "...         ...          ...      ...         ...\n",
       "2750458     123          123        0      1149.0\n",
       "2750455     123          123        0      1149.0\n",
       "2750452     123          123        0      1149.0\n",
       "2750451     123          123        0      1149.0\n",
       "2750464   32851           53        0      1149.0\n",
       "\n",
       "[2793443 rows x 4 columns]"
      ]
     },
     "execution_count": 394,
     "metadata": {},
     "output_type": "execute_result"
    }
   ],
   "source": [
    "tcp"
   ]
  },
  {
   "cell_type": "code",
   "execution_count": 395,
   "metadata": {},
   "outputs": [
    {
     "name": "stdout",
     "output_type": "stream",
     "text": [
      "Empty DataFrame\n",
      "Columns: [source, destination, anomaly, hours_past]\n",
      "Index: []\n"
     ]
    }
   ],
   "source": [
    "# Find rows where the special character is present in any column\n",
    "rows_with_special_char = tcp[tcp.applymap(lambda x: '<' in str(x)).any(axis=1)]\n",
    "\n",
    "# Display the rows with the special character\n",
    "print(rows_with_special_char)\n",
    "\n"
   ]
  },
  {
   "cell_type": "code",
   "execution_count": 396,
   "metadata": {},
   "outputs": [],
   "source": [
    "graphs = tcp.loc[:, ['source', 'destination', 'hours_past']]\n",
    "graphs = graphs.values"
   ]
  },
  {
   "cell_type": "code",
   "execution_count": 397,
   "metadata": {},
   "outputs": [
    {
     "data": {
      "text/plain": [
       "2793443"
      ]
     },
     "execution_count": 397,
     "metadata": {},
     "output_type": "execute_result"
    }
   ],
   "source": [
    "len(graphs)"
   ]
  },
  {
   "cell_type": "markdown",
   "metadata": {},
   "source": [
    "## 04  SpotLight Algorithm in python"
   ]
  },
  {
   "cell_type": "code",
   "execution_count": 398,
   "metadata": {},
   "outputs": [],
   "source": [
    "class SpotLight:\n",
    "    def __init__(self, graphs):\n",
    "        '''\n",
    "        input should be Nx3 array. (N: number of total edges)\n",
    "        first column: source node\n",
    "        second column: destination node\n",
    "        third column: timestamp\n",
    "        '''\n",
    "        self.graphs = graphs\n",
    "        self.timestamps = np.unique(graphs[:,2])\n",
    "        self.num_of_timestamp = self.timestamps.shape[0]\n",
    "\n",
    "    def sketch(self, K=50, p=0.2, q=0.2):\n",
    "        '''\n",
    "        K: number of subgraphs\n",
    "        p: source sampling probability\n",
    "        q: destination sampling probability\n",
    "        '''\n",
    "        sketched_vectors = np.empty((0, K), int)\n",
    "        for i in tqdm(range (self.num_of_timestamp)):\n",
    "            sketched_vector = np.empty((0, K), int)\n",
    "            graph = self.graphs[self.graphs[:, 2] == (self.timestamps[i])]\n",
    "            self.source_nodes = np.unique(graph[:,0]).reshape((-1, 1))\n",
    "            self.dest_nodes = np.unique(graph[:,1]).reshape((-1, 1))\n",
    "            self.hashing(K, p, q)\n",
    "            for j in range(graph.shape[0]):\n",
    "                source = graph[j, 0]\n",
    "                dest = graph[j, 1]\n",
    "                sources_are_in_subgraphs = (self.subgraphs_source[self.subgraphs_source[:, 0] == source])[:,1:]\n",
    "                dests_are_in_subgraphs = (self.subgraphs_dest[self.subgraphs_dest[:, 0] == dest])[:,1:]\n",
    "                sketched_vector = np.append(sketched_vector, sources_are_in_subgraphs * dests_are_in_subgraphs, axis=0)\n",
    "            sketched_vector = np.sum(sketched_vector, axis=0).reshape((1, K))\n",
    "            sketched_vectors = np.append(sketched_vectors, sketched_vector, axis=0)\n",
    "        return sketched_vectors\n",
    "        \n",
    "\n",
    "    def hashing(self, K, p, q):\n",
    "        self.subgraphs_source = np.random.choice([0,1], [self.source_nodes.shape[0], K], p = [1-p, p])\n",
    "        self.subgraphs_source = np.concatenate((self.source_nodes, self.subgraphs_source), axis=1)\n",
    "        self.subgraphs_dest = np.random.choice([0,1], [self.dest_nodes.shape[0], K], p = [1-q, q])\n",
    "        self.subgraphs_dest = np.concatenate((self.dest_nodes, self.subgraphs_dest), axis=1)"
   ]
  },
  {
   "cell_type": "code",
   "execution_count": 399,
   "metadata": {
    "scrolled": true
   },
   "outputs": [
    {
     "name": "stderr",
     "output_type": "stream",
     "text": [
      "100%|██████████████████████████████████████████████████████████████████████| 730/730 [1:11:03<00:00,  5.84s/it]\n"
     ]
    }
   ],
   "source": [
    "# sketching tcodump data to spotlight space.\n",
    "SL = SpotLight(graphs)\n",
    "v_g = SL.sketch(50, 0.2, 0.2)"
   ]
  },
  {
   "cell_type": "code",
   "execution_count": 400,
   "metadata": {},
   "outputs": [
    {
     "data": {
      "text/plain": [
       "(730, 50)"
      ]
     },
     "execution_count": 400,
     "metadata": {},
     "output_type": "execute_result"
    }
   ],
   "source": [
    "v_g.shape"
   ]
  },
  {
   "cell_type": "code",
   "execution_count": 410,
   "metadata": {},
   "outputs": [],
   "source": [
    "# Convert the NumPy array to a Pandas DataFrame\n",
    "spotligh_space = pd.DataFrame(v_g)\n",
    "# Save the DataFrame to a CSV file\n",
    "spotligh_space.to_csv('spotlight_space.csv', index=False)\n"
   ]
  },
  {
   "cell_type": "markdown",
   "metadata": {},
   "source": [
    "## 04a Anomaly Score with Isolation Forest"
   ]
  },
  {
   "cell_type": "code",
   "execution_count": 435,
   "metadata": {},
   "outputs": [],
   "source": [
    "# anomaly detection based on Isolation Forest\n",
    "from sklearn.ensemble import IsolationForest\n",
    "clf = IsolationForest(n_estimators=100, max_samples=80, contamination=0.4)\n",
    "clf.fit(v_g)\n",
    "detected = clf.score_samples(v_g)\n",
    "detected = detected * -1"
   ]
  },
  {
   "cell_type": "code",
   "execution_count": 436,
   "metadata": {},
   "outputs": [],
   "source": [
    "# groupby timestamp, timestamps which contain more than 1000 anomalous communication are anomalous timestamps\n",
    "truth = tcp.groupby('hours_past').sum()\n",
    "truth = ((truth.anomaly.values > 1000)*1)"
   ]
  },
  {
   "cell_type": "code",
   "execution_count": 437,
   "metadata": {},
   "outputs": [
    {
     "data": {
      "text/plain": [
       "730"
      ]
     },
     "execution_count": 437,
     "metadata": {},
     "output_type": "execute_result"
    }
   ],
   "source": [
    "len(truth)"
   ]
  },
  {
   "cell_type": "code",
   "execution_count": 448,
   "metadata": {},
   "outputs": [
    {
     "data": {
      "text/plain": [
       "730"
      ]
     },
     "execution_count": 448,
     "metadata": {},
     "output_type": "execute_result"
    }
   ],
   "source": [
    "len(detected)"
   ]
  },
  {
   "cell_type": "code",
   "execution_count": 439,
   "metadata": {},
   "outputs": [
    {
     "name": "stdout",
     "output_type": "stream",
     "text": [
      "Area Under Curve: 0.8545218774604009\n"
     ]
    }
   ],
   "source": [
    "from sklearn.metrics import precision_recall_curve, auc\n",
    "precision_1, recall_1, thresholds = precision_recall_curve(truth, detected)\n",
    "print('Area Under Curve:', auc(recall_1, precision_1))"
   ]
  },
  {
   "cell_type": "code",
   "execution_count": 440,
   "metadata": {},
   "outputs": [
    {
     "data": {
      "text/plain": [
       "[<matplotlib.lines.Line2D at 0x33d024d60>]"
      ]
     },
     "execution_count": 440,
     "metadata": {},
     "output_type": "execute_result"
    },
    {
     "data": {
      "image/png": "[encoded data removed]",
      "text/plain": [
       "<Figure size 432x288 with 1 Axes>"
      ]
     },
     "metadata": {
      "needs_background": "light"
     },
     "output_type": "display_data"
    }
   ],
   "source": [
    "# draw recall precision curve\n",
    "from matplotlib import pyplot\n",
    "%matplotlib inline\n",
    "pyplot.plot(recall_1, precision_1, marker='.')"
   ]
  },
  {
   "cell_type": "code",
   "execution_count": 408,
   "metadata": {},
   "outputs": [
    {
     "data": {
      "image/png": "[encoded data removed]",
      "text/plain": [
       "<Figure size 432x288 with 1 Axes>"
      ]
     },
     "metadata": {
      "needs_background": "light"
     },
     "output_type": "display_data"
    }
   ],
   "source": [
    "# draw recall precision curve\n",
    "from matplotlib import pyplot\n",
    "%matplotlib inline\n",
    "pyplot.plot(recall, precision, marker='.')\n",
    "# Save the plot\n",
    "pyplot.savefig('recall_precision_curve.png')\n",
    "\n",
    "# Display the plot\n",
    "pyplot.show()"
   ]
  },
  {
   "cell_type": "markdown",
   "metadata": {},
   "source": [
    "## 4b Random Cut Trees."
   ]
  },
  {
   "cell_type": "code",
   "execution_count": 441,
   "metadata": {},
   "outputs": [
    {
     "name": "stdout",
     "output_type": "stream",
     "text": [
      "Anomaly Scores:\n",
      "[ 3164  4228  4072  3697  5442  4409  3741  3611  3752  1669  2971  1064\n",
      "  1059  1011  1203  1000  1713  1000  1340  1085  1836  1013  1692  4691\n",
      "  4602  4911  4170  3710  2771  2491  2193  3096  1113  1204  1021  1023\n",
      "  1000  1179  1000  1000  1000  1054  2157  3675  3682  2574  1986  5369\n",
      "  5892  4707  4388  4721  2429  2780  1310  1503  1106  1146  1165  1000\n",
      "  1246  1487  1013  1043  1000  1000  1779  4433  4044  5546  3319  4042\n",
      "  4032  4008  3785  1809  2583  1370  1005  1000  1000  1000  1007  1013\n",
      "  1026  1000  1181  1133  1000  1013  2136  3796  4052  2460  3470  4127\n",
      "  2445  3965  3184  2731  1863  1175  1171  1000  1000  1013  1000  1000\n",
      "  1007  1000  1013  1000  1000  1495  2627  3664  4032  2880  2825  4485\n",
      "  3360  5303  2858  1259  1421  1498  1000  1007  1013  1000  1766  1000\n",
      "  1000  1000  1000  1000  2519  3990  4370  4331  5975  6038  4001  3513\n",
      "  4880  1938  1927  2904  1657  1013  1013  1000  1173  1488  1000  1000\n",
      "  1050  1013  1013  1000  3457  3323  1397  2503  2630  3815  3893  3511\n",
      "  3998  3579  1324  1206  1839  2857  1870  1589  1020  1643  2004  1613\n",
      "  1494  1013  1000  1013  2507  4143  4262  4358  4231  3160  6134  3209\n",
      "  4464  4160  2913  1565  1269  1047  1013  1085  1007  1724  1000  1000\n",
      "  1000  1050  1000  1622  1956  2197  2046  1525  1990  2799  1824  1818\n",
      "  1467  1125  1058  1003  1003  1045  1013  1000  1475  1003  1000  1020\n",
      "  1000  1735  2504  1556  2436  1867  2443  2011  1900  1526  1303  1223\n",
      "  1212  1077  1085  1000  1000  1000  1556  1013  1050  1045  1000  1461\n",
      "  2503  2208  2062  4132  2234  2244  1963  3333  1596  1028  1052  1005\n",
      "  1036  1016  1178  1129  1489  1040  1044  1043  1037  1000  2250  2257\n",
      "  2099  1785  2011  2290  2504 13657 11564  1530  1064  1013  1172  1000\n",
      "  1000  1036  1016  1992  1079  1000  1020  1000  1000  1000  1942  2889\n",
      "  2770  2427  2609  2209  2716  3075  2299  1396  1051  1100  1021  1040\n",
      "  1010  1003  1042  1328  1000  1000  1003  1000  2643  3140  3008  2446\n",
      "  3621  2514  2505  2372  2131  1861  1347  1145  1023  1044  1078  1225\n",
      "  1046  1314  8592  2159  2291  2228  2305  2283  1821  2410  1960  1408\n",
      "  1265  1170  1025  1025  1005  1027  1005  1545  1013  1013  1000  1000\n",
      "  1000  1542  1744  1314  1669  1711  2006  1957  2268  1745  1730  1168\n",
      "  1097  1256  1013  1013  1100  1045  1526  1000  1058  1005  1000  3887\n",
      "  2372  2840  2568  3019  2810  2997  3156  2743  2508  2836  2548  2679\n",
      "  2031  2118  2658  2811  3542  2538  2091  2078  1910  1089  3692  3646\n",
      "  3230  2658  1013  1561  2126  2117  1809  1507  1038  1044  1075  1024\n",
      "  1065  1036  1020  1401  1013  1039  1000  1000  2507  3255  6787  2928\n",
      "  3087  3389  3614  3229  1113  3123  3632  3880  3482  2986  1805  2651\n",
      "  2580  1705  1689  1106  1128  2360  1021  1011  1005  1013  1723  1000\n",
      "  1000  1059  2875  3974  3647  3768  4133  3226  2816  3006  2823  2898\n",
      "  3205  1931  2122  3087  2733  2403  2208  3417  3436  1657  3362  3790\n",
      " 13788  6844  2775  2863  3655  4067  3224  3051  3354  2896  3640  2909\n",
      " 13098 12476  2115  2563  2585  1853  1969  2388  2885  2781  2725  1210\n",
      "  2998  2289  3939  3582  2800  2430  3548  3481  3054  2858  2306  3021\n",
      "  2202  2584  2665  2158  2742  3410  2158  3143  2234  2314  1072  3299\n",
      "  3448  2943  2561  3640  4022  6527  3334  2879  2538  2891  2844  2570\n",
      "  2296  1806  2670  2601  2423  2500  2753  2685  1519  3817  5199 12008\n",
      " 13274  4988  4404  5322  3634  3916  3772  3292  2887  1871  2527  2248\n",
      "  2659  2552  3516  2784  2807  1815  1809  3167  4373  5066 12643 13261\n",
      " 12386 12829  5148  4293  5879  1583  2573  4883  4873  2956  3611  5185\n",
      "  3937  4556  3100  5109  3919  2236  3093  4100  6354  4463  4230  4834\n",
      "  4401  2984  4426  2799  1538  1236  1699  1013  1824  1076  1779  1604\n",
      "  1000  1000  1000  2603  2114  4171  3104  4173  3103  5473  4146  3664\n",
      "  1717  2182  1396  1046  1634  1114  1040  1045  1803  1000  1076  1032\n",
      "  1102  1000  3715  3246  3642  3404  3991  6227  3654  4522  5222  2992\n",
      "  3799  1545  1187  1564  1567  1378  1386  1620  1148  1190  1020  1000\n",
      "  2609  5805  3450  5109  3426  5042  4671  2776  4166  3456  1968  2125\n",
      "  1000  7251  1000  1042  1013  2171  1000  1000  1179  1439  1013  1013\n",
      "  2848 11837 13589  5000  4195  5787  6143  3906  2029  3375  2106  1645\n",
      "  1414  1053  1196  1016  1000  3178  1000  1013  1000  1000  1045  1013\n",
      "  1000  1000  1000  1000  1000  1000  1000  1000  1000  1005  1000  1000\n",
      "  1013  1000  1000  1007  1000  1502  1020  1000  1000  1000]\n"
     ]
    }
   ],
   "source": [
    "from sklearn.ensemble import RandomTreesEmbedding\n",
    "# Build the Random Cut Trees model\n",
    "\n",
    "# RandomTreesEmbedding is used here, but it's essentially a Random Cut Trees model.\n",
    "rct_model = RandomTreesEmbedding(n_estimators=100, max_depth=10, random_state=42)\n",
    "rct_model.fit(v_g)\n",
    "#detected = rct_model.score_samples(v_g)\n",
    "#detected = detected * -1\n",
    "# Use decision_function for scoring\n",
    "decision_scores = rct_model.apply(v_g).sum(axis=1)\n",
    "\n",
    "# Convert decision scores to anomaly scores (multiply by -1 to obtain positive scores)\n",
    "#anomaly_scores = -decision_scores\n",
    "anomaly_scores = decision_scores * 1\n",
    "# Print the anomaly scores\n",
    "print(\"Anomaly Scores:\")\n",
    "print(anomaly_scores)"
   ]
  },
  {
   "cell_type": "code",
   "execution_count": 443,
   "metadata": {},
   "outputs": [
    {
     "name": "stdout",
     "output_type": "stream",
     "text": [
      "Area Under Curve: 0.8692164633495447\n"
     ]
    }
   ],
   "source": [
    "from sklearn.metrics import precision_recall_curve, auc\n",
    "precision_2, recall_2, thresholds = precision_recall_curve(truth, anomaly_scores)\n",
    "print('Area Under Curve:', auc(recall_2, precision_2))"
   ]
  },
  {
   "cell_type": "markdown",
   "metadata": {},
   "source": [
    "## 05 Comparing IsolatedForest vs RandomCutTree for Anomaly Detection"
   ]
  },
  {
   "cell_type": "code",
   "execution_count": 447,
   "metadata": {},
   "outputs": [
    {
     "data": {
      "image/png": "[encoded data removed]",
      "text/plain": [
       "<Figure size 432x288 with 1 Axes>"
      ]
     },
     "metadata": {
      "needs_background": "light"
     },
     "output_type": "display_data"
    }
   ],
   "source": [
    "from matplotlib import pyplot\n",
    "\n",
    "# Assuming you have the data for recall and precision in the variables recall_1, precision_1, recall_2, precision_2\n",
    "\n",
    "# Plot the first set of recall-precision data\n",
    "pyplot.plot(recall_1, precision_1, marker='.', label='SL: IsolatedForest')\n",
    "\n",
    "# Plot the second set of recall-precision data\n",
    "pyplot.plot(recall_2, precision_2, marker='.', label='SL: RandomCutTree')\n",
    "\n",
    "# Label the x-axis\n",
    "pyplot.xlabel('Recall')\n",
    "\n",
    "# Label the y-axis\n",
    "pyplot.ylabel('Precision')\n",
    "\n",
    "# Add a title to the plot\n",
    "pyplot.title('Recall-Precision Curve')\n",
    "\n",
    "# Display a legend indicating which line corresponds to which model\n",
    "pyplot.legend()\n",
    "\n",
    "# Save the plot (you can uncomment this line if you want to save the plot as an image file)\n",
    "pyplot.savefig('03_recall_precision_curve_both.png')\n",
    "\n",
    "# Display the plot\n",
    "pyplot.show()\n"
   ]
  },
  {
   "cell_type": "code",
   "execution_count": null,
   "metadata": {},
   "outputs": [],
   "source": []
  }
 ],
 "metadata": {
  "kernelspec": {
   "display_name": "Python 3 (ipykernel)",
   "language": "python",
   "name": "python3"
  },
  "language_info": {
   "codemirror_mode": {
    "name": "ipython",
    "version": 3
   },
   "file_extension": ".py",
   "mimetype": "text/x-python",
   "name": "python",
   "nbconvert_exporter": "python",
   "pygments_lexer": "ipython3",
   "version": "3.8.12"
  }
 },
 "nbformat": 4,
 "nbformat_minor": 2
}
